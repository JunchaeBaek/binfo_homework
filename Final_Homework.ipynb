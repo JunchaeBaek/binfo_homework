{
 "cells": [
  {
   "cell_type": "code",
   "execution_count": null,
   "metadata": {},
   "outputs": [],
   "source": [
    "!wget -O - --no-check-certificate https://hyeshik.qbio.io/binfo/binfo1-datapack1.tar | tar -C /mnt/d/binfodata -xf -\n",
    "!wget --no-check-certificate -O /mnt/d/binfodata/binfo1-datapack1/gencode.gtf.gz http://ftp.ebi.ac.uk/pub/databases/gencode/Gencode_mouse/release_M27/gencode.vM27.annotation.gtf.gz\n",
    "!md5sum -c /mnt/d/binfodata/binfo1-datapack1/*\n",
    "!ls -al /mnt/d/binfodata/binfo*"
   ]
  },
  {
   "cell_type": "code",
   "execution_count": null,
   "metadata": {},
   "outputs": [],
   "source": [
    "!mkdir -p /mnt/d/binfodata/binfo1-work/\n",
    "%cd /mnt/d/binfodata/binfo1-work/\n",
    "!cp ../binfo1-datapack1/* ."
   ]
  },
  {
   "cell_type": "code",
   "execution_count": null,
   "metadata": {},
   "outputs": [],
   "source": [
    "!conda install -y bedtools bioawk samtools subread"
   ]
  },
  {
   "cell_type": "code",
   "execution_count": null,
   "metadata": {},
   "outputs": [],
   "source": [
    "!pip install pysam"
   ]
  },
  {
   "cell_type": "markdown",
   "metadata": {},
   "source": [
    "압축풀기(reference genome)"
   ]
  },
  {
   "cell_type": "code",
   "execution_count": null,
   "metadata": {},
   "outputs": [],
   "source": [
    "!gunzip /mnt/d/binfodata/binfo1-datapack1/mm9.fa.gz"
   ]
  },
  {
   "cell_type": "markdown",
   "metadata": {},
   "source": [
    "Directory 지정"
   ]
  },
  {
   "cell_type": "code",
   "execution_count": 2,
   "metadata": {},
   "outputs": [
    {
     "name": "stdout",
     "output_type": "stream",
     "text": [
      "/mnt/d/binfodata/binfo1-work\n"
     ]
    }
   ],
   "source": [
    "%cd /mnt/d/binfodata/binfo1-work"
   ]
  },
  {
   "cell_type": "markdown",
   "metadata": {},
   "source": [
    "Samtools를 이용해 bam 파일의 unmapped data를 제거합니다."
   ]
  },
  {
   "cell_type": "code",
   "execution_count": null,
   "metadata": {},
   "outputs": [],
   "source": [
    "!(samtools view -H ../binfo1-datapack1/CLIP-35L33G.bam; \\\n",
    "  samtools view -F 4 ../binfo1-datapack1/CLIP-35L33G.bam) | \\\n",
    " samtools view -b -o filtered-CLIP-35L33G.bam"
   ]
  },
  {
   "cell_type": "code",
   "execution_count": null,
   "metadata": {},
   "outputs": [],
   "source": [
    "!samtools mpileup filtered-CLIP-35L33G.bam > filtered-CLIP-35L33G.pileup"
   ]
  },
  {
   "cell_type": "code",
   "execution_count": null,
   "metadata": {},
   "outputs": [],
   "source": [
    "!head filtered-CLIP-35L33G-pileup.bam"
   ]
  },
  {
   "cell_type": "markdown",
   "metadata": {},
   "source": [
    "이거부터 돌려보자."
   ]
  },
  {
   "cell_type": "code",
   "execution_count": null,
   "metadata": {},
   "outputs": [],
   "source": [
    "import pandas as pd\n",
    "\n",
    "# Step 1: 파일업 결과를 읽고, read count 50 이하인 부분 제거\n",
    "pileup_file = 'filtered-CLIP-35L33G.pileup'\n",
    "filtered_pileup_file = 'filtered_pileup.txt'\n",
    "\n",
    "with open(pileup_file, 'r') as infile, open(filtered_pileup_file, 'w') as outfile:\n",
    "    for line in infile:\n",
    "        chrom, pos, ref, depth, bases, qual = line.strip().split('\\t')[:6]\n",
    "        depth = int(depth)\n",
    "        if depth > 50:\n",
    "            outfile.write(line)\n",
    "\n",
    "print(f\"Filtered pileup data saved to: {filtered_pileup_file}\")"
   ]
  },
  {
   "cell_type": "code",
   "execution_count": null,
   "metadata": {},
   "outputs": [],
   "source": [
    "!tail filtered_pileup.txt"
   ]
  },
  {
   "cell_type": "markdown",
   "metadata": {},
   "source": [
    "커널 용량 에러가 끊임없이 발생하여 청크 100개로 나눔."
   ]
  },
  {
   "cell_type": "code",
   "execution_count": 3,
   "metadata": {},
   "outputs": [
    {
     "name": "stdout",
     "output_type": "stream",
     "text": [
      "100개의 작은 파일로 나눔 완료.\n"
     ]
    }
   ],
   "source": [
    "import os\n",
    "\n",
    "input_file = 'filtered_pileup.txt'\n",
    "num_parts = 100  # 더 작은 청크로 나누기\n",
    "\n",
    "# 파일의 총 라인 수를 계산합니다.\n",
    "total_lines = sum(1 for line in open(input_file))\n",
    "\n",
    "# 각 파일에 들어갈 라인의 수를 계산합니다.\n",
    "lines_per_file = total_lines // num_parts\n",
    "\n",
    "with open(input_file, 'r') as f:\n",
    "    for i in range(num_parts):\n",
    "        with open(f'filtered_pileup_part_{i+1}.txt', 'w') as out_file:\n",
    "            for j in range(lines_per_file):\n",
    "                line = f.readline()\n",
    "                if not line:\n",
    "                    break\n",
    "                out_file.write(line)\n",
    "                \n",
    "            # 마지막 파일에 남은 라인을 추가합니다.\n",
    "            if i == num_parts - 1:\n",
    "                for line in f:\n",
    "                    out_file.write(line)\n",
    "\n",
    "print(f\"{num_parts}개의 작은 파일로 나눔 완료.\")"
   ]
  },
  {
   "cell_type": "code",
   "execution_count": 5,
   "metadata": {},
   "outputs": [
    {
     "name": "stderr",
     "output_type": "stream",
     "text": [
      "/tmp/ipykernel_181529/2421546399.py:7: RuntimeWarning: invalid value encountered in divide\n",
      "  probs = np.where(total[:, None] == 0, 0, counts / total[:, None])\n",
      "/tmp/ipykernel_181529/2421546399.py:7: RuntimeWarning: invalid value encountered in divide\n",
      "  probs = np.where(total[:, None] == 0, 0, counts / total[:, None])\n",
      "/tmp/ipykernel_181529/2421546399.py:7: RuntimeWarning: invalid value encountered in divide\n",
      "  probs = np.where(total[:, None] == 0, 0, counts / total[:, None])\n",
      "/tmp/ipykernel_181529/2421546399.py:7: RuntimeWarning: invalid value encountered in divide\n",
      "  probs = np.where(total[:, None] == 0, 0, counts / total[:, None])\n",
      "/tmp/ipykernel_181529/2421546399.py:7: RuntimeWarning: invalid value encountered in divide\n",
      "  probs = np.where(total[:, None] == 0, 0, counts / total[:, None])\n",
      "/tmp/ipykernel_181529/2421546399.py:7: RuntimeWarning: invalid value encountered in divide\n",
      "  probs = np.where(total[:, None] == 0, 0, counts / total[:, None])\n",
      "/tmp/ipykernel_181529/2421546399.py:7: RuntimeWarning: invalid value encountered in divide\n",
      "  probs = np.where(total[:, None] == 0, 0, counts / total[:, None])\n",
      "/tmp/ipykernel_181529/2421546399.py:7: RuntimeWarning: invalid value encountered in divide\n",
      "  probs = np.where(total[:, None] == 0, 0, counts / total[:, None])\n",
      "/tmp/ipykernel_181529/2421546399.py:7: RuntimeWarning: invalid value encountered in divide\n",
      "  probs = np.where(total[:, None] == 0, 0, counts / total[:, None])\n",
      "/tmp/ipykernel_181529/2421546399.py:7: RuntimeWarning: invalid value encountered in divide\n",
      "  probs = np.where(total[:, None] == 0, 0, counts / total[:, None])\n",
      "/tmp/ipykernel_181529/2421546399.py:7: RuntimeWarning: invalid value encountered in divide\n",
      "  probs = np.where(total[:, None] == 0, 0, counts / total[:, None])\n",
      "/tmp/ipykernel_181529/2421546399.py:7: RuntimeWarning: invalid value encountered in divide\n",
      "  probs = np.where(total[:, None] == 0, 0, counts / total[:, None])\n",
      "/tmp/ipykernel_181529/2421546399.py:7: RuntimeWarning: invalid value encountered in divide\n",
      "  probs = np.where(total[:, None] == 0, 0, counts / total[:, None])\n",
      "/tmp/ipykernel_181529/2421546399.py:7: RuntimeWarning: invalid value encountered in divide\n",
      "  probs = np.where(total[:, None] == 0, 0, counts / total[:, None])\n",
      "/tmp/ipykernel_181529/2421546399.py:7: RuntimeWarning: invalid value encountered in divide\n",
      "  probs = np.where(total[:, None] == 0, 0, counts / total[:, None])\n",
      "/tmp/ipykernel_181529/2421546399.py:7: RuntimeWarning: invalid value encountered in divide\n",
      "  probs = np.where(total[:, None] == 0, 0, counts / total[:, None])\n",
      "/tmp/ipykernel_181529/2421546399.py:7: RuntimeWarning: invalid value encountered in divide\n",
      "  probs = np.where(total[:, None] == 0, 0, counts / total[:, None])\n",
      "/tmp/ipykernel_181529/2421546399.py:7: RuntimeWarning: invalid value encountered in divide\n",
      "  probs = np.where(total[:, None] == 0, 0, counts / total[:, None])\n",
      "/tmp/ipykernel_181529/2421546399.py:7: RuntimeWarning: invalid value encountered in divide\n",
      "  probs = np.where(total[:, None] == 0, 0, counts / total[:, None])\n",
      "/tmp/ipykernel_181529/2421546399.py:7: RuntimeWarning: invalid value encountered in divide\n",
      "  probs = np.where(total[:, None] == 0, 0, counts / total[:, None])\n",
      "/tmp/ipykernel_181529/2421546399.py:7: RuntimeWarning: invalid value encountered in divide\n",
      "  probs = np.where(total[:, None] == 0, 0, counts / total[:, None])\n",
      "/tmp/ipykernel_181529/2421546399.py:7: RuntimeWarning: invalid value encountered in divide\n",
      "  probs = np.where(total[:, None] == 0, 0, counts / total[:, None])\n",
      "/tmp/ipykernel_181529/2421546399.py:7: RuntimeWarning: invalid value encountered in divide\n",
      "  probs = np.where(total[:, None] == 0, 0, counts / total[:, None])\n",
      "/tmp/ipykernel_181529/2421546399.py:7: RuntimeWarning: invalid value encountered in divide\n",
      "  probs = np.where(total[:, None] == 0, 0, counts / total[:, None])\n",
      "/tmp/ipykernel_181529/2421546399.py:7: RuntimeWarning: invalid value encountered in divide\n",
      "  probs = np.where(total[:, None] == 0, 0, counts / total[:, None])\n",
      "/tmp/ipykernel_181529/2421546399.py:7: RuntimeWarning: invalid value encountered in divide\n",
      "  probs = np.where(total[:, None] == 0, 0, counts / total[:, None])\n",
      "/tmp/ipykernel_181529/2421546399.py:7: RuntimeWarning: invalid value encountered in divide\n",
      "  probs = np.where(total[:, None] == 0, 0, counts / total[:, None])\n",
      "/tmp/ipykernel_181529/2421546399.py:7: RuntimeWarning: invalid value encountered in divide\n",
      "  probs = np.where(total[:, None] == 0, 0, counts / total[:, None])\n",
      "/tmp/ipykernel_181529/2421546399.py:7: RuntimeWarning: invalid value encountered in divide\n",
      "  probs = np.where(total[:, None] == 0, 0, counts / total[:, None])\n",
      "/tmp/ipykernel_181529/2421546399.py:7: RuntimeWarning: invalid value encountered in divide\n",
      "  probs = np.where(total[:, None] == 0, 0, counts / total[:, None])\n",
      "/tmp/ipykernel_181529/2421546399.py:7: RuntimeWarning: invalid value encountered in divide\n",
      "  probs = np.where(total[:, None] == 0, 0, counts / total[:, None])\n",
      "/tmp/ipykernel_181529/2421546399.py:7: RuntimeWarning: invalid value encountered in divide\n",
      "  probs = np.where(total[:, None] == 0, 0, counts / total[:, None])\n",
      "/tmp/ipykernel_181529/2421546399.py:7: RuntimeWarning: invalid value encountered in divide\n",
      "  probs = np.where(total[:, None] == 0, 0, counts / total[:, None])\n",
      "/tmp/ipykernel_181529/2421546399.py:7: RuntimeWarning: invalid value encountered in divide\n",
      "  probs = np.where(total[:, None] == 0, 0, counts / total[:, None])\n",
      "/tmp/ipykernel_181529/2421546399.py:7: RuntimeWarning: invalid value encountered in divide\n",
      "  probs = np.where(total[:, None] == 0, 0, counts / total[:, None])\n",
      "/tmp/ipykernel_181529/2421546399.py:7: RuntimeWarning: invalid value encountered in divide\n",
      "  probs = np.where(total[:, None] == 0, 0, counts / total[:, None])\n",
      "/tmp/ipykernel_181529/2421546399.py:7: RuntimeWarning: invalid value encountered in divide\n",
      "  probs = np.where(total[:, None] == 0, 0, counts / total[:, None])\n",
      "/tmp/ipykernel_181529/2421546399.py:7: RuntimeWarning: invalid value encountered in divide\n",
      "  probs = np.where(total[:, None] == 0, 0, counts / total[:, None])\n",
      "/tmp/ipykernel_181529/2421546399.py:7: RuntimeWarning: invalid value encountered in divide\n",
      "  probs = np.where(total[:, None] == 0, 0, counts / total[:, None])\n",
      "/tmp/ipykernel_181529/2421546399.py:7: RuntimeWarning: invalid value encountered in divide\n",
      "  probs = np.where(total[:, None] == 0, 0, counts / total[:, None])\n",
      "/tmp/ipykernel_181529/2421546399.py:7: RuntimeWarning: invalid value encountered in divide\n",
      "  probs = np.where(total[:, None] == 0, 0, counts / total[:, None])\n",
      "/tmp/ipykernel_181529/2421546399.py:7: RuntimeWarning: invalid value encountered in divide\n",
      "  probs = np.where(total[:, None] == 0, 0, counts / total[:, None])\n",
      "/tmp/ipykernel_181529/2421546399.py:7: RuntimeWarning: invalid value encountered in divide\n",
      "  probs = np.where(total[:, None] == 0, 0, counts / total[:, None])\n",
      "/tmp/ipykernel_181529/2421546399.py:7: RuntimeWarning: invalid value encountered in divide\n",
      "  probs = np.where(total[:, None] == 0, 0, counts / total[:, None])\n",
      "/tmp/ipykernel_181529/2421546399.py:7: RuntimeWarning: invalid value encountered in divide\n",
      "  probs = np.where(total[:, None] == 0, 0, counts / total[:, None])\n",
      "/tmp/ipykernel_181529/2421546399.py:7: RuntimeWarning: invalid value encountered in divide\n",
      "  probs = np.where(total[:, None] == 0, 0, counts / total[:, None])\n",
      "/tmp/ipykernel_181529/2421546399.py:7: RuntimeWarning: invalid value encountered in divide\n",
      "  probs = np.where(total[:, None] == 0, 0, counts / total[:, None])\n",
      "/tmp/ipykernel_181529/2421546399.py:7: RuntimeWarning: invalid value encountered in divide\n",
      "  probs = np.where(total[:, None] == 0, 0, counts / total[:, None])\n",
      "/tmp/ipykernel_181529/2421546399.py:7: RuntimeWarning: invalid value encountered in divide\n",
      "  probs = np.where(total[:, None] == 0, 0, counts / total[:, None])\n",
      "/tmp/ipykernel_181529/2421546399.py:7: RuntimeWarning: invalid value encountered in divide\n",
      "  probs = np.where(total[:, None] == 0, 0, counts / total[:, None])\n",
      "/tmp/ipykernel_181529/2421546399.py:7: RuntimeWarning: invalid value encountered in divide\n",
      "  probs = np.where(total[:, None] == 0, 0, counts / total[:, None])\n",
      "/tmp/ipykernel_181529/2421546399.py:7: RuntimeWarning: invalid value encountered in divide\n",
      "  probs = np.where(total[:, None] == 0, 0, counts / total[:, None])\n",
      "/tmp/ipykernel_181529/2421546399.py:7: RuntimeWarning: invalid value encountered in divide\n",
      "  probs = np.where(total[:, None] == 0, 0, counts / total[:, None])\n",
      "/tmp/ipykernel_181529/2421546399.py:7: RuntimeWarning: invalid value encountered in divide\n",
      "  probs = np.where(total[:, None] == 0, 0, counts / total[:, None])\n",
      "/tmp/ipykernel_181529/2421546399.py:7: RuntimeWarning: invalid value encountered in divide\n",
      "  probs = np.where(total[:, None] == 0, 0, counts / total[:, None])\n",
      "/tmp/ipykernel_181529/2421546399.py:7: RuntimeWarning: invalid value encountered in divide\n",
      "  probs = np.where(total[:, None] == 0, 0, counts / total[:, None])\n",
      "/tmp/ipykernel_181529/2421546399.py:7: RuntimeWarning: invalid value encountered in divide\n",
      "  probs = np.where(total[:, None] == 0, 0, counts / total[:, None])\n",
      "/tmp/ipykernel_181529/2421546399.py:7: RuntimeWarning: invalid value encountered in divide\n",
      "  probs = np.where(total[:, None] == 0, 0, counts / total[:, None])\n",
      "/tmp/ipykernel_181529/2421546399.py:7: RuntimeWarning: invalid value encountered in divide\n",
      "  probs = np.where(total[:, None] == 0, 0, counts / total[:, None])\n",
      "/tmp/ipykernel_181529/2421546399.py:7: RuntimeWarning: invalid value encountered in divide\n",
      "  probs = np.where(total[:, None] == 0, 0, counts / total[:, None])\n",
      "/tmp/ipykernel_181529/2421546399.py:7: RuntimeWarning: invalid value encountered in divide\n",
      "  probs = np.where(total[:, None] == 0, 0, counts / total[:, None])\n",
      "/tmp/ipykernel_181529/2421546399.py:7: RuntimeWarning: invalid value encountered in divide\n",
      "  probs = np.where(total[:, None] == 0, 0, counts / total[:, None])\n",
      "/tmp/ipykernel_181529/2421546399.py:7: RuntimeWarning: invalid value encountered in divide\n",
      "  probs = np.where(total[:, None] == 0, 0, counts / total[:, None])\n",
      "/tmp/ipykernel_181529/2421546399.py:7: RuntimeWarning: invalid value encountered in divide\n",
      "  probs = np.where(total[:, None] == 0, 0, counts / total[:, None])\n",
      "/tmp/ipykernel_181529/2421546399.py:7: RuntimeWarning: invalid value encountered in divide\n",
      "  probs = np.where(total[:, None] == 0, 0, counts / total[:, None])\n",
      "/tmp/ipykernel_181529/2421546399.py:7: RuntimeWarning: invalid value encountered in divide\n",
      "  probs = np.where(total[:, None] == 0, 0, counts / total[:, None])\n",
      "/tmp/ipykernel_181529/2421546399.py:7: RuntimeWarning: invalid value encountered in divide\n",
      "  probs = np.where(total[:, None] == 0, 0, counts / total[:, None])\n",
      "/tmp/ipykernel_181529/2421546399.py:7: RuntimeWarning: invalid value encountered in divide\n",
      "  probs = np.where(total[:, None] == 0, 0, counts / total[:, None])\n",
      "/tmp/ipykernel_181529/2421546399.py:7: RuntimeWarning: invalid value encountered in divide\n",
      "  probs = np.where(total[:, None] == 0, 0, counts / total[:, None])\n",
      "/tmp/ipykernel_181529/2421546399.py:7: RuntimeWarning: invalid value encountered in divide\n",
      "  probs = np.where(total[:, None] == 0, 0, counts / total[:, None])\n",
      "/tmp/ipykernel_181529/2421546399.py:7: RuntimeWarning: invalid value encountered in divide\n",
      "  probs = np.where(total[:, None] == 0, 0, counts / total[:, None])\n",
      "/tmp/ipykernel_181529/2421546399.py:7: RuntimeWarning: invalid value encountered in divide\n",
      "  probs = np.where(total[:, None] == 0, 0, counts / total[:, None])\n",
      "/tmp/ipykernel_181529/2421546399.py:7: RuntimeWarning: invalid value encountered in divide\n",
      "  probs = np.where(total[:, None] == 0, 0, counts / total[:, None])\n",
      "/tmp/ipykernel_181529/2421546399.py:7: RuntimeWarning: invalid value encountered in divide\n",
      "  probs = np.where(total[:, None] == 0, 0, counts / total[:, None])\n",
      "/tmp/ipykernel_181529/2421546399.py:7: RuntimeWarning: invalid value encountered in divide\n",
      "  probs = np.where(total[:, None] == 0, 0, counts / total[:, None])\n",
      "/tmp/ipykernel_181529/2421546399.py:7: RuntimeWarning: invalid value encountered in divide\n",
      "  probs = np.where(total[:, None] == 0, 0, counts / total[:, None])\n",
      "/tmp/ipykernel_181529/2421546399.py:7: RuntimeWarning: invalid value encountered in divide\n",
      "  probs = np.where(total[:, None] == 0, 0, counts / total[:, None])\n",
      "/tmp/ipykernel_181529/2421546399.py:7: RuntimeWarning: invalid value encountered in divide\n",
      "  probs = np.where(total[:, None] == 0, 0, counts / total[:, None])\n",
      "/tmp/ipykernel_181529/2421546399.py:7: RuntimeWarning: invalid value encountered in divide\n",
      "  probs = np.where(total[:, None] == 0, 0, counts / total[:, None])\n",
      "/tmp/ipykernel_181529/2421546399.py:7: RuntimeWarning: invalid value encountered in divide\n",
      "  probs = np.where(total[:, None] == 0, 0, counts / total[:, None])\n",
      "/tmp/ipykernel_181529/2421546399.py:7: RuntimeWarning: invalid value encountered in divide\n",
      "  probs = np.where(total[:, None] == 0, 0, counts / total[:, None])\n",
      "/tmp/ipykernel_181529/2421546399.py:7: RuntimeWarning: invalid value encountered in divide\n",
      "  probs = np.where(total[:, None] == 0, 0, counts / total[:, None])\n",
      "/tmp/ipykernel_181529/2421546399.py:7: RuntimeWarning: invalid value encountered in divide\n",
      "  probs = np.where(total[:, None] == 0, 0, counts / total[:, None])\n",
      "/tmp/ipykernel_181529/2421546399.py:7: RuntimeWarning: invalid value encountered in divide\n",
      "  probs = np.where(total[:, None] == 0, 0, counts / total[:, None])\n",
      "/tmp/ipykernel_181529/2421546399.py:7: RuntimeWarning: invalid value encountered in divide\n",
      "  probs = np.where(total[:, None] == 0, 0, counts / total[:, None])\n",
      "/tmp/ipykernel_181529/2421546399.py:7: RuntimeWarning: invalid value encountered in divide\n",
      "  probs = np.where(total[:, None] == 0, 0, counts / total[:, None])\n",
      "/tmp/ipykernel_181529/2421546399.py:7: RuntimeWarning: invalid value encountered in divide\n",
      "  probs = np.where(total[:, None] == 0, 0, counts / total[:, None])\n",
      "/tmp/ipykernel_181529/2421546399.py:7: RuntimeWarning: invalid value encountered in divide\n",
      "  probs = np.where(total[:, None] == 0, 0, counts / total[:, None])\n",
      "/tmp/ipykernel_181529/2421546399.py:7: RuntimeWarning: invalid value encountered in divide\n",
      "  probs = np.where(total[:, None] == 0, 0, counts / total[:, None])\n",
      "/tmp/ipykernel_181529/2421546399.py:7: RuntimeWarning: invalid value encountered in divide\n",
      "  probs = np.where(total[:, None] == 0, 0, counts / total[:, None])\n",
      "/tmp/ipykernel_181529/2421546399.py:7: RuntimeWarning: invalid value encountered in divide\n",
      "  probs = np.where(total[:, None] == 0, 0, counts / total[:, None])\n",
      "/tmp/ipykernel_181529/2421546399.py:7: RuntimeWarning: invalid value encountered in divide\n",
      "  probs = np.where(total[:, None] == 0, 0, counts / total[:, None])\n",
      "/tmp/ipykernel_181529/2421546399.py:7: RuntimeWarning: invalid value encountered in divide\n",
      "  probs = np.where(total[:, None] == 0, 0, counts / total[:, None])\n",
      "/tmp/ipykernel_181529/2421546399.py:7: RuntimeWarning: invalid value encountered in divide\n",
      "  probs = np.where(total[:, None] == 0, 0, counts / total[:, None])\n",
      "/tmp/ipykernel_181529/2421546399.py:7: RuntimeWarning: invalid value encountered in divide\n",
      "  probs = np.where(total[:, None] == 0, 0, counts / total[:, None])\n",
      "/tmp/ipykernel_181529/2421546399.py:7: RuntimeWarning: invalid value encountered in divide\n",
      "  probs = np.where(total[:, None] == 0, 0, counts / total[:, None])\n",
      "/tmp/ipykernel_181529/2421546399.py:7: RuntimeWarning: invalid value encountered in divide\n",
      "  probs = np.where(total[:, None] == 0, 0, counts / total[:, None])\n",
      "/tmp/ipykernel_181529/2421546399.py:7: RuntimeWarning: invalid value encountered in divide\n",
      "  probs = np.where(total[:, None] == 0, 0, counts / total[:, None])\n",
      "/tmp/ipykernel_181529/2421546399.py:7: RuntimeWarning: invalid value encountered in divide\n",
      "  probs = np.where(total[:, None] == 0, 0, counts / total[:, None])\n",
      "/tmp/ipykernel_181529/2421546399.py:7: RuntimeWarning: invalid value encountered in divide\n",
      "  probs = np.where(total[:, None] == 0, 0, counts / total[:, None])\n"
     ]
    },
    {
     "name": "stdout",
     "output_type": "stream",
     "text": [
      "Binding sites saved to: binding_sites.csv\n"
     ]
    }
   ],
   "source": [
    "import pandas as pd\n",
    "import numpy as np\n",
    "\n",
    "# Shannon entropy 계산 함수 (벡터화된 버전)\n",
    "def calculate_shannon_entropy_vec(counts):\n",
    "    total = np.sum(counts, axis=1)\n",
    "    probs = np.where(total[:, None] == 0, 0, counts / total[:, None])\n",
    "    entropy = -np.sum(probs * np.log2(probs, where=(probs > 0)), axis=1)\n",
    "    return entropy\n",
    "\n",
    "output_file = 'binding_sites.csv'\n",
    "cutoff = 0.8\n",
    "num_parts = 100\n",
    "\n",
    "# 결과를 저장할 리스트 초기화\n",
    "results = []\n",
    "\n",
    "# 각 작은 파일을 처리\n",
    "for i in range(num_parts):\n",
    "    part_file = f'filtered_pileup_part_{i+1}.txt'\n",
    "    \n",
    "    # 파일을 청크 단위로 읽기\n",
    "    chunk = pd.read_csv(part_file, sep='\\t', header=None, names=['chrom', 'pos', 'ref', 'depth', 'bases', 'qual'], dtype={'chrom': str, 'pos': int, 'ref': str, 'depth': int, 'bases': str, 'qual': str})\n",
    "    \n",
    "    # 각 염기 빈도 계산\n",
    "    chunk['count_A'] = chunk['bases'].str.count('A')\n",
    "    chunk['count_C'] = chunk['bases'].str.count('C')\n",
    "    chunk['count_G'] = chunk['bases'].str.count('G')\n",
    "    chunk['count_T'] = chunk['bases'].str.count('T')\n",
    "    \n",
    "    # Shannon entropy 계산\n",
    "    counts = chunk[['count_A', 'count_C', 'count_G', 'count_T']].values\n",
    "    chunk['entropy'] = calculate_shannon_entropy_vec(counts)\n",
    "    \n",
    "    # Shannon entropy 값이 cutoff를 통과하는 binding site 선택\n",
    "    filtered_chunk = chunk[chunk['entropy'] > cutoff]\n",
    "    results.append(filtered_chunk)\n",
    "\n",
    "# 결과를 데이터프레임으로 병합\n",
    "binding_sites = pd.concat(results, ignore_index=True)\n",
    "\n",
    "# 결과를 CSV 파일로 저장\n",
    "binding_sites.to_csv(output_file, index=False)\n",
    "\n",
    "print(f\"Binding sites saved to: {output_file}\")"
   ]
  },
  {
   "cell_type": "code",
   "execution_count": null,
   "metadata": {},
   "outputs": [],
   "source": [
    "!samtools index filtered-CLIP-35L33G.bam"
   ]
  },
  {
   "cell_type": "code",
   "execution_count": 8,
   "metadata": {},
   "outputs": [
    {
     "name": "stdout",
     "output_type": "stream",
     "text": [
      "WebLogo input file saved to: weblogo_input.txt\n"
     ]
    }
   ],
   "source": [
    "import pandas as pd\n",
    "import pysam\n",
    "\n",
    "# 파일 경로 설정\n",
    "binding_sites_file = 'binding_sites.csv'\n",
    "bam_file = 'filtered-CLIP-35L33G.bam'\n",
    "weblogo_input_file = 'weblogo_input.txt'\n",
    "\n",
    "# Binding sites 파일 읽기\n",
    "binding_sites = pd.read_csv(binding_sites_file)\n",
    "\n",
    "# BAM 파일 열기\n",
    "bam = pysam.AlignmentFile(bam_file, \"rb\")\n",
    "\n",
    "# RNA 시퀀스 변환 함수\n",
    "def dna_to_rna(dna_seq):\n",
    "    translation_table = str.maketrans('ACGT', 'ACGU')\n",
    "    return dna_seq.translate(translation_table)\n",
    "\n",
    "# Flanking residues 추출\n",
    "with open(weblogo_input_file, 'w') as weblogo_out:\n",
    "    for _, row in binding_sites.iterrows():\n",
    "        chrom = row['chrom']\n",
    "        pos = row['pos']\n",
    "        start = pos - 10\n",
    "        end = pos + 10\n",
    "        \n",
    "        sequences = []\n",
    "        \n",
    "        for read in bam.fetch(chrom, start, end):\n",
    "            if not read.is_unmapped:\n",
    "                read_start = read.reference_start\n",
    "                read_end = read.reference_end\n",
    "                if read_start <= pos < read_end:  # ensure pos is within read\n",
    "                    seq = read.query_sequence\n",
    "                    seq_start = max(0, pos - read_start - 10)\n",
    "                    seq_end = min(len(seq), pos - read_start + 11)  # inclusive of the position\n",
    "                    flanking_seq = seq[seq_start:seq_end]\n",
    "                    rna_seq = dna_to_rna(flanking_seq)\n",
    "                    \n",
    "                    # Calculate padding\n",
    "                    left_padding_needed = max(0, 10 - (pos - read_start))\n",
    "                    right_padding_needed = max(0, 10 - (read_end - pos - 1))\n",
    "                    \n",
    "                    left_padding = '-' * left_padding_needed\n",
    "                    right_padding = '-' * right_padding_needed\n",
    "\n",
    "                    padded_seq = left_padding + rna_seq + right_padding\n",
    "\n",
    "                    if len(padded_seq) < 21:\n",
    "                        padded_seq = padded_seq + '-' * (21 - len(padded_seq))\n",
    "                    padded_seq = padded_seq[:21]\n",
    "\n",
    "                    sequences.append(padded_seq)\n",
    "\n",
    "        if sequences:\n",
    "            for seq in sequences:\n",
    "                weblogo_out.write(seq + '\\n')\n",
    "        else:\n",
    "            # No reads found, add '-' padding only\n",
    "            padded_seq = '-' * 21\n",
    "            weblogo_out.write(padded_seq + '\\n')\n",
    "\n",
    "print(f\"WebLogo input file saved to: {weblogo_input_file}\")\n"
   ]
  },
  {
   "cell_type": "code",
   "execution_count": 9,
   "metadata": {},
   "outputs": [
    {
     "name": "stdout",
     "output_type": "stream",
     "text": [
      "Requirement already satisfied: weblogo in /root/junchae/anaconda3/lib/python3.11/site-packages (3.7.12)\n",
      "Requirement already satisfied: numpy in /root/junchae/anaconda3/lib/python3.11/site-packages (from weblogo) (1.26.4)\n",
      "Requirement already satisfied: scipy in /root/junchae/anaconda3/lib/python3.11/site-packages (from weblogo) (1.11.4)\n",
      "Requirement already satisfied: setuptools in /root/junchae/anaconda3/lib/python3.11/site-packages (from weblogo) (68.2.2)\n",
      "^C\n",
      "\u001b[31mERROR: Operation cancelled by user\u001b[0m\u001b[31m\n",
      "\u001b[0m"
     ]
    }
   ],
   "source": [
    "!pip install weblogo"
   ]
  },
  {
   "cell_type": "markdown",
   "metadata": {},
   "source": [
    "Weblogo로 하려고 많은 노력을 기울였으나 Logomaker로 만드는 것이 용량상 합리적."
   ]
  },
  {
   "cell_type": "code",
   "execution_count": 21,
   "metadata": {},
   "outputs": [
    {
     "name": "stdout",
     "output_type": "stream",
     "text": [
      "Collecting logomaker\n",
      "  Downloading logomaker-0.8-py2.py3-none-any.whl.metadata (1.0 kB)\n",
      "Requirement already satisfied: numpy in /root/junchae/anaconda3/lib/python3.11/site-packages (from logomaker) (1.26.4)\n",
      "Requirement already satisfied: matplotlib in /root/junchae/anaconda3/lib/python3.11/site-packages (from logomaker) (3.8.0)\n",
      "Requirement already satisfied: pandas in /root/junchae/anaconda3/lib/python3.11/site-packages (from logomaker) (2.1.4)\n",
      "Requirement already satisfied: contourpy>=1.0.1 in /root/junchae/anaconda3/lib/python3.11/site-packages (from matplotlib->logomaker) (1.2.0)\n",
      "Requirement already satisfied: cycler>=0.10 in /root/junchae/anaconda3/lib/python3.11/site-packages (from matplotlib->logomaker) (0.11.0)\n",
      "Requirement already satisfied: fonttools>=4.22.0 in /root/junchae/anaconda3/lib/python3.11/site-packages (from matplotlib->logomaker) (4.25.0)\n",
      "Requirement already satisfied: kiwisolver>=1.0.1 in /root/junchae/anaconda3/lib/python3.11/site-packages (from matplotlib->logomaker) (1.4.4)\n",
      "Requirement already satisfied: packaging>=20.0 in /root/junchae/anaconda3/lib/python3.11/site-packages (from matplotlib->logomaker) (23.1)\n",
      "Requirement already satisfied: pillow>=6.2.0 in /root/junchae/anaconda3/lib/python3.11/site-packages (from matplotlib->logomaker) (10.2.0)\n",
      "Requirement already satisfied: pyparsing>=2.3.1 in /root/junchae/anaconda3/lib/python3.11/site-packages (from matplotlib->logomaker) (3.0.9)\n",
      "Requirement already satisfied: python-dateutil>=2.7 in /root/junchae/anaconda3/lib/python3.11/site-packages (from matplotlib->logomaker) (2.8.2)\n",
      "Requirement already satisfied: pytz>=2020.1 in /root/junchae/anaconda3/lib/python3.11/site-packages (from pandas->logomaker) (2023.3.post1)\n",
      "Requirement already satisfied: tzdata>=2022.1 in /root/junchae/anaconda3/lib/python3.11/site-packages (from pandas->logomaker) (2023.3)\n",
      "Requirement already satisfied: six>=1.5 in /root/junchae/anaconda3/lib/python3.11/site-packages (from python-dateutil>=2.7->matplotlib->logomaker) (1.16.0)\n",
      "Downloading logomaker-0.8-py2.py3-none-any.whl (11.8 MB)\n",
      "\u001b[2K   \u001b[90m━━━━━━━━━━━━━━━━━━━━━━━━━━━━━━━━━━━━━━━━\u001b[0m \u001b[32m11.8/11.8 MB\u001b[0m \u001b[31m15.0 MB/s\u001b[0m eta \u001b[36m0:00:00\u001b[0m00:01\u001b[0m00:01\u001b[0m\n",
      "\u001b[?25hInstalling collected packages: logomaker\n",
      "Successfully installed logomaker-0.8\n",
      "\u001b[33mWARNING: Running pip as the 'root' user can result in broken permissions and conflicting behaviour with the system package manager. It is recommended to use a virtual environment instead: https://pip.pypa.io/warnings/venv\u001b[0m\u001b[33m\n",
      "\u001b[0m"
     ]
    }
   ],
   "source": [
    "!pip install logomaker"
   ]
  },
  {
   "cell_type": "code",
   "execution_count": null,
   "metadata": {},
   "outputs": [],
   "source": [
    "!sudo apt-get update\n",
    "!sudo apt-get install ghostscript"
   ]
  },
  {
   "cell_type": "code",
   "execution_count": 19,
   "metadata": {},
   "outputs": [
    {
     "ename": "",
     "evalue": "",
     "output_type": "error",
     "traceback": [
      "\u001b[1;31mThe Kernel crashed while executing code in the current cell or a previous cell. \n",
      "\u001b[1;31mPlease review the code in the cell(s) to identify a possible cause of the failure. \n",
      "\u001b[1;31mClick <a href='https://aka.ms/vscodeJupyterKernelCrash'>here</a> for more info. \n",
      "\u001b[1;31mView Jupyter <a href='command:jupyter.viewOutput'>log</a> for further details."
     ]
    }
   ],
   "source": [
    "import pandas as pd\n",
    "import logomaker\n",
    "import matplotlib.pyplot as plt\n",
    "\n",
    "# 파일 경로 설정\n",
    "input_file = 'weblogo_input.txt'\n",
    "output_image_bits = 'weblogo_output_bits.png'\n",
    "output_image_prob = 'weblogo_output_prob.png'\n",
    "\n",
    "positions = list(range(-10, 11))\n",
    "annotate = ['-10', '', '', '', '', '-5', '', '', '', '', '0', '', '', '', '', '5', '', '', '', '10']\n",
    "\n",
    "# annotate 리스트를 positions 리스트와 같은 길이로 맞추기 위해 빈 문자열 추가\n",
    "if len(annotate) < len(positions):\n",
    "    annotate += [''] * (len(positions) - len(annotate))\n",
    "\n",
    "# 시퀀스 데이터 로드\n",
    "sequences = []\n",
    "with open(input_file, 'r') as f:\n",
    "    for line in f:\n",
    "        sequences.append(line.strip())\n",
    "\n",
    "# 시퀀스를 데이터프레임으로 변환\n",
    "data = {'sequence': sequences}\n",
    "df = pd.DataFrame(data)\n",
    "\n",
    "# 시퀀스를 logomaker에 맞는 형식으로 변환\n",
    "logo_df = logomaker.alignment_to_matrix(df['sequence'], to_type='information')\n",
    "probability_df = logomaker.alignment_to_matrix(df['sequence'], to_type='probability')\n",
    "\n",
    "# 염기 색상 설정\n",
    "custom_color_scheme = {\n",
    "    'A': '#1f77b4',  # 파랑\n",
    "    'C': '#2ca02c',  # 초록\n",
    "    'G': '#ff7f0e',  # 노랑\n",
    "    'U': '#d62728',  # 빨강 (T 대신 U 사용)\n",
    "    'N': '#000000'   # 검정색\n",
    "}\n",
    "\n",
    "# Information Content 로고 생성\n",
    "plt.figure(figsize=(15, 5))\n",
    "logo = logomaker.Logo(logo_df, color_scheme=custom_color_scheme)\n",
    "logo.style_spines(visible=False)\n",
    "logo.style_spines(spines=['left', 'bottom'], visible=True)\n",
    "logo.ax.set_ylabel('Bits')\n",
    "logo.ax.set_xlabel('Distance from cross-linked nucleotide')\n",
    "logo.ax.set_xticks(list(range(len(positions))))\n",
    "logo.ax.set_xticklabels(annotate)\n",
    "logo.ax.set_title('Information Content')\n",
    "plt.savefig(output_image_bits)\n",
    "plt.close()\n",
    "\n",
    "# Base Probability 로고 생성\n",
    "plt.figure(figsize=(15, 5))\n",
    "logo = logomaker.Logo(probability_df, color_scheme=custom_color_scheme)\n",
    "logo.style_spines(visible=False)\n",
    "logo.style_spines(spines=['left', 'bottom'], visible=True)\n",
    "logo.ax.set_ylabel('Probability')\n",
    "logo.ax.set_xlabel('Distance from cross-linked nucleotide')\n",
    "logo.ax.set_xticks(list(range(len(positions))))\n",
    "logo.ax.set_xticklabels(annotate)\n",
    "logo.ax.set_title('Base Probability')\n",
    "plt.savefig(output_image_prob)\n",
    "plt.close()\n",
    "\n",
    "print(\"WebLogo 이미지 생성 완료.\")"
   ]
  },
  {
   "cell_type": "markdown",
   "metadata": {},
   "source": [
    "2개로 쪼개야 Kernerl 문제 사라짐."
   ]
  },
  {
   "cell_type": "code",
   "execution_count": 15,
   "metadata": {},
   "outputs": [
    {
     "name": "stdout",
     "output_type": "stream",
     "text": [
      "2개의 작은 파일로 나눔 완료.\n"
     ]
    }
   ],
   "source": [
    "import os\n",
    "\n",
    "input_file = 'weblogo_input.txt'\n",
    "output_dir = 'weblogo_chunks'\n",
    "num_parts = 2  # 나눌 파일 개수 설정\n",
    "\n",
    "# 출력 디렉토리 생성\n",
    "os.makedirs(output_dir, exist_ok=True)\n",
    "\n",
    "# 파일의 총 라인 수를 계산합니다.\n",
    "total_lines = sum(1 for line in open(input_file))\n",
    "\n",
    "# 각 파일에 들어갈 라인의 수를 계산합니다.\n",
    "lines_per_file = total_lines // num_parts\n",
    "\n",
    "with open(input_file, 'r') as f:\n",
    "    for i in range(num_parts):\n",
    "        output_path = os.path.join(output_dir, f'weblogo_input_part_{i+1}.txt')\n",
    "        with open(output_path, 'w') as out_file:\n",
    "            for j in range(lines_per_file):\n",
    "                line = f.readline()\n",
    "                if not line:\n",
    "                    break\n",
    "                out_file.write(line)\n",
    "                \n",
    "    # 마지막 파일에 남은 라인을 추가합니다.\n",
    "    # 이 블록을 밖으로 이동하여 모든 라인을 파일에 기록합니다.\n",
    "    if i == num_parts - 1:\n",
    "        with open(output_path, 'a') as out_file:\n",
    "            for line in f:\n",
    "                out_file.write(line)\n",
    "\n",
    "print(f\"{num_parts}개의 작은 파일로 나눔 완료.\")"
   ]
  },
  {
   "cell_type": "code",
   "execution_count": 5,
   "metadata": {},
   "outputs": [
    {
     "name": "stdout",
     "output_type": "stream",
     "text": [
      "WebLogo 이미지 생성 완료.\n",
      "이미지 병합 완료.\n"
     ]
    },
    {
     "data": {
      "text/plain": [
       "<Figure size 1500x500 with 0 Axes>"
      ]
     },
     "metadata": {},
     "output_type": "display_data"
    },
    {
     "data": {
      "text/plain": [
       "<Figure size 1500x500 with 0 Axes>"
      ]
     },
     "metadata": {},
     "output_type": "display_data"
    },
    {
     "data": {
      "text/plain": [
       "<Figure size 1500x500 with 0 Axes>"
      ]
     },
     "metadata": {},
     "output_type": "display_data"
    },
    {
     "data": {
      "text/plain": [
       "<Figure size 1500x500 with 0 Axes>"
      ]
     },
     "metadata": {},
     "output_type": "display_data"
    }
   ],
   "source": [
    "import os\n",
    "import pandas as pd\n",
    "import logomaker\n",
    "import matplotlib.pyplot as plt\n",
    "from PIL import Image, ImageDraw, ImageFont\n",
    "\n",
    "output_dir = 'weblogo_chunks'\n",
    "num_parts = 2  # 위에서 설정한 파일 개수와 동일해야 함\n",
    "\n",
    "positions = list(range(-10, 11))\n",
    "annotate = ['-10', '', '', '', '', '-5', '', '', '', '', '0', '', '', '', '', '5', '', '', '', '10']\n",
    "\n",
    "# annotate 리스트를 positions 리스트와 같은 길이로 맞추기 위해 빈 문자열 추가\n",
    "if len(annotate) < len(positions):\n",
    "    annotate += [''] * (len(positions) - len(annotate))\n",
    "\n",
    "# 염기 색상 설정\n",
    "custom_color_scheme = {\n",
    "    'A': '#1f77b4',  # 파랑\n",
    "    'C': '#2ca02c',  # 초록\n",
    "    'G': '#ff7f0e',  # 노랑\n",
    "    'U': '#d62728',  # 빨강 (T 대신 U 사용)\n",
    "    'N': '#000000'   # 검정색\n",
    "}\n",
    "\n",
    "for i in range(num_parts):\n",
    "    part_file = os.path.join(output_dir, f'weblogo_input_part_{i+1}.txt')\n",
    "    output_image_bits = os.path.join(output_dir, f'weblogo_output_part_{i+1}_bits.png')\n",
    "    output_image_prob = os.path.join(output_dir, f'weblogo_output_part_{i+1}_prob.png')\n",
    "    \n",
    "    # 시퀀스 데이터 로드\n",
    "    sequences = []\n",
    "    with open(part_file, 'r') as f:\n",
    "        for line in f:\n",
    "            sequences.append(line.strip())\n",
    "    \n",
    "    # 시퀀스를 데이터프레임으로 변환\n",
    "    data = {'sequence': sequences}\n",
    "    df = pd.DataFrame(data)\n",
    "    \n",
    "    # 시퀀스를 logomaker에 맞는 형식으로 변환\n",
    "    logo_df = logomaker.alignment_to_matrix(df['sequence'], to_type='information')\n",
    "    probability_df = logomaker.alignment_to_matrix(df['sequence'], to_type='probability')\n",
    "    \n",
    "    # Information Content 로고 생성\n",
    "    plt.figure(figsize=(15, 5))\n",
    "    logo = logomaker.Logo(logo_df, color_scheme=custom_color_scheme)\n",
    "    logo.style_spines(visible=False)\n",
    "    logo.style_spines(spines=['left', 'bottom'], visible=True)\n",
    "    logo.ax.set_ylabel('Bits')\n",
    "    logo.ax.set_xlabel('Distance from cross-linked nucleotide')\n",
    "    logo.ax.set_xticks(list(range(len(positions))))\n",
    "    logo.ax.set_xticklabels(annotate)\n",
    "    logo.ax.set_title(f'Information Content Part {i+1}')\n",
    "    plt.savefig(output_image_bits)\n",
    "    plt.close()\n",
    "    \n",
    "    # Base Probability 로고 생성\n",
    "    plt.figure(figsize=(15, 5))\n",
    "    logo = logomaker.Logo(probability_df, color_scheme=custom_color_scheme)\n",
    "    logo.style_spines(visible=False)\n",
    "    logo.style_spines(spines=['left', 'bottom'], visible=True)\n",
    "    logo.ax.set_ylabel('Frequency')\n",
    "    logo.ax.set_xlabel('Distance from cross-linked nucleotide')\n",
    "    logo.ax.set_xticks(list(range(len(positions))))\n",
    "    logo.ax.set_xticklabels(annotate)\n",
    "    logo.ax.set_title(f'Base Probability Part {i+1}')\n",
    "    plt.savefig(output_image_prob)\n",
    "    plt.close()\n",
    "\n",
    "print(\"WebLogo 이미지 생성 완료.\")\n",
    "\n",
    "# 이미지 병합\n",
    "def merge_images_with_labels(image_paths, output_path, x_labels, y_labels):\n",
    "    images = [Image.open(x) for x in image_paths]\n",
    "    widths, heights = zip(*(i.size for i in images))\n",
    "    \n",
    "    total_height = sum(heights)\n",
    "    max_width = max(widths)\n",
    "    \n",
    "    # 새로운 이미지 생성 (라벨 공간 추가)\n",
    "    label_height = 50\n",
    "    combined_image = Image.new('RGB', (max_width, total_height + label_height))\n",
    "    draw = ImageDraw.Draw(combined_image)\n",
    "    \n",
    "    # 폰트 설정\n",
    "    try:\n",
    "        font = ImageFont.truetype(\"arial.ttf\", 20)\n",
    "    except IOError:\n",
    "        font = ImageFont.load_default()\n",
    "    \n",
    "    y_offset = 0\n",
    "    for im in images:\n",
    "        combined_image.paste(im, (0, y_offset))\n",
    "        y_offset += im.size[1]\n",
    "    \n",
    "    # x축 라벨 추가\n",
    "    x_offset = 10\n",
    "    for label in x_labels:\n",
    "        draw.text((x_offset, total_height), label, font=font, fill='black')\n",
    "        x_offset += (max_width // len(x_labels))\n",
    "    \n",
    "    # y축 라벨 추가\n",
    "    y_offset = 10\n",
    "    for label in y_labels:\n",
    "        draw.text((0, y_offset), label, font=font, fill='black')\n",
    "        y_offset += (total_height // len(y_labels))\n",
    "    \n",
    "    combined_image.save(output_path)\n",
    "\n",
    "# 병합할 이미지 파일 경로 설정\n",
    "bits_images = [os.path.join(output_dir, f'weblogo_output_part_{i+1}_bits.png') for i in range(num_parts)]\n",
    "prob_images = [os.path.join(output_dir, f'weblogo_output_part_{i+1}_prob.png') for i in range(num_parts)]\n",
    "\n",
    "# 병합된 이미지 저장 경로 설정\n",
    "combined_bits_image = 'combined_weblogo_output_bits.png'\n",
    "combined_prob_image = 'combined_weblogo_output_prob.png'\n",
    "\n",
    "# x축 라벨 설정\n",
    "x_labels = annotate\n",
    "\n",
    "# y축 라벨 설정 (예시로 비워둠, 필요시 추가)\n",
    "y_labels = [''] * num_parts\n",
    "\n",
    "# 이미지 병합 (라벨 추가)\n",
    "merge_images_with_labels(bits_images, combined_bits_image, x_labels, y_labels)\n",
    "merge_images_with_labels(prob_images, combined_prob_image, x_labels, y_labels)\n",
    "\n",
    "print(\"이미지 병합 완료.\")\n"
   ]
  },
  {
   "cell_type": "code",
   "execution_count": 10,
   "metadata": {},
   "outputs": [
    {
     "name": "stdout",
     "output_type": "stream",
     "text": [
      "Requirement already satisfied: pillow in /root/junchae/anaconda3/lib/python3.11/site-packages (10.2.0)\n",
      "\u001b[33mWARNING: Running pip as the 'root' user can result in broken permissions and conflicting behaviour with the system package manager. It is recommended to use a virtual environment instead: https://pip.pypa.io/warnings/venv\u001b[0m\u001b[33m\n",
      "\u001b[0m"
     ]
    }
   ],
   "source": [
    "!pip install pillow"
   ]
  }
 ],
 "metadata": {
  "kernelspec": {
   "display_name": "Python 3",
   "language": "python",
   "name": "python3"
  },
  "language_info": {
   "codemirror_mode": {
    "name": "ipython",
    "version": 3
   },
   "file_extension": ".py",
   "mimetype": "text/x-python",
   "name": "python",
   "nbconvert_exporter": "python",
   "pygments_lexer": "ipython3",
   "version": "3.11.7"
  }
 },
 "nbformat": 4,
 "nbformat_minor": 2
}
